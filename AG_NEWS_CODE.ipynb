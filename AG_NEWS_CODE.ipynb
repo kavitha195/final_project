{
 "cells": [
  {
   "cell_type": "code",
   "execution_count": 2,
   "id": "27844944",
   "metadata": {},
   "outputs": [
    {
     "name": "stdout",
     "output_type": "stream",
     "text": [
      "Requirement already satisfied: emoji in c:\\users\\jothi\\appdata\\local\\programs\\python\\python310\\lib\\site-packages (2.14.1)Note: you may need to restart the kernel to use updated packages.\n",
      "\n"
     ]
    },
    {
     "name": "stderr",
     "output_type": "stream",
     "text": [
      "WARNING: You are using pip version 21.2.3; however, version 25.2 is available.\n",
      "You should consider upgrading via the 'c:\\Users\\jothi\\AppData\\Local\\Programs\\Python\\Python310\\python.exe -m pip install --upgrade pip' command.\n"
     ]
    }
   ],
   "source": [
    "pip install emoji"
   ]
  },
  {
   "cell_type": "code",
   "execution_count": 3,
   "id": "1f313812",
   "metadata": {},
   "outputs": [
    {
     "name": "stdout",
     "output_type": "stream",
     "text": [
      "Requirement already satisfied: bs4 in c:\\users\\jothi\\appdata\\local\\programs\\python\\python310\\lib\\site-packages (0.0.2)\n",
      "Requirement already satisfied: beautifulsoup4 in c:\\users\\jothi\\appdata\\local\\programs\\python\\python310\\lib\\site-packages (from bs4) (4.13.5)\n",
      "Requirement already satisfied: typing-extensions>=4.0.0 in c:\\users\\jothi\\appdata\\roaming\\python\\python310\\site-packages (from beautifulsoup4->bs4) (4.14.1)\n",
      "Requirement already satisfied: soupsieve>1.2 in c:\\users\\jothi\\appdata\\local\\programs\\python\\python310\\lib\\site-packages (from beautifulsoup4->bs4) (2.8)\n",
      "Note: you may need to restart the kernel to use updated packages.\n"
     ]
    },
    {
     "name": "stderr",
     "output_type": "stream",
     "text": [
      "WARNING: You are using pip version 21.2.3; however, version 25.2 is available.\n",
      "You should consider upgrading via the 'c:\\Users\\jothi\\AppData\\Local\\Programs\\Python\\Python310\\python.exe -m pip install --upgrade pip' command.\n"
     ]
    }
   ],
   "source": [
    "pip install bs4"
   ]
  },
  {
   "cell_type": "code",
   "execution_count": 4,
   "id": "ead897b6",
   "metadata": {},
   "outputs": [
    {
     "name": "stdout",
     "output_type": "stream",
     "text": [
      "Requirement already satisfied: xgboost in c:\\users\\jothi\\appdata\\local\\programs\\python\\python310\\lib\\site-packages (3.0.5)\n",
      "Requirement already satisfied: scipy in c:\\users\\jothi\\appdata\\local\\programs\\python\\python310\\lib\\site-packages (from xgboost) (1.15.3)\n",
      "Requirement already satisfied: numpy in c:\\users\\jothi\\appdata\\local\\programs\\python\\python310\\lib\\site-packages (from xgboost) (2.1.3)\n",
      "Note: you may need to restart the kernel to use updated packages.\n"
     ]
    },
    {
     "name": "stderr",
     "output_type": "stream",
     "text": [
      "WARNING: You are using pip version 21.2.3; however, version 25.2 is available.\n",
      "You should consider upgrading via the 'c:\\Users\\jothi\\AppData\\Local\\Programs\\Python\\Python310\\python.exe -m pip install --upgrade pip' command.\n"
     ]
    }
   ],
   "source": [
    "pip install xgboost"
   ]
  },
  {
   "cell_type": "code",
   "execution_count": 5,
   "id": "a1957ccc",
   "metadata": {},
   "outputs": [
    {
     "name": "stdout",
     "output_type": "stream",
     "text": [
      "Requirement already satisfied: kagglehub in c:\\users\\jothi\\appdata\\local\\programs\\python\\python310\\lib\\site-packages (0.3.12)\n",
      "Note: you may need to restart the kernel to use updated packages.\n"
     ]
    },
    {
     "name": "stderr",
     "output_type": "stream",
     "text": [
      "ERROR: Could not find a version that satisfies the requirement 0.3.13 (from versions: none)\n",
      "ERROR: No matching distribution found for 0.3.13\n",
      "WARNING: You are using pip version 21.2.3; however, version 25.2 is available.\n",
      "You should consider upgrading via the 'c:\\Users\\jothi\\AppData\\Local\\Programs\\Python\\Python310\\python.exe -m pip install --upgrade pip' command.\n"
     ]
    }
   ],
   "source": [
    "pip install kagglehub 0.3.13"
   ]
  },
  {
   "cell_type": "code",
   "execution_count": 21,
   "id": "b445a636",
   "metadata": {},
   "outputs": [],
   "source": [
    "import os\n",
    "import sys\n",
    "import time\n",
    "import json\n",
    "import joblib\n",
    "import logging\n",
    "import numpy as np\n",
    "import pandas as pd\n",
    "import matplotlib.pyplot as plt\n",
    "import seaborn as sns\n",
    "from datetime import datetime\n",
    "import nltk\n",
    "import re\n",
    "import string\n",
    "import emoji\n",
    "from bs4 import BeautifulSoup\n",
    "from collections import Counter\n",
    "from wordcloud import WordCloud\n",
    "from sklearn.model_selection import train_test_split\n",
    "from sklearn.feature_extraction.text import TfidfVectorizer\n",
    "from sklearn.linear_model import LogisticRegression\n",
    "from sklearn.ensemble import RandomForestClassifier\n",
    "from xgboost import XGBClassifier\n",
    "from sklearn.metrics import classification_report, accuracy_score, confusion_matrix\n",
    "from transformers import RobertaTokenizerFast, TFRobertaModel\n",
    "from tensorflow.keras.layers import Embedding, LSTM, Dense, Dropout, Bidirectional\n",
    "from tensorflow.keras.callbacks import EarlyStopping, ReduceLROnPlateau\n",
    "from tensorflow.keras.utils import to_categorical\n",
    "import tensorflow as tf\n",
    "from tensorflow.keras.models import Sequential\n",
    "from tensorflow.keras.layers import Dense, Embedding, LSTM, GlobalMaxPool1D\n",
    "from tensorflow.keras.preprocessing.text import Tokenizer\n",
    "from tensorflow.keras.preprocessing.sequence import pad_sequences\n",
    "from nltk.corpus import stopwords\n",
    "from nltk.stem import WordNetLemmatizer\n",
    "from transformers import (\n",
    "    AutoTokenizer,\n",
    "    AutoModelForSequenceClassification,\n",
    "    TextClassificationPipeline,\n",
    "    Trainer,\n",
    "    TrainingArguments,\n",
    "    pipeline\n",
    ")\n"
   ]
  },
  {
   "cell_type": "code",
   "execution_count": 1,
   "id": "c9b672d5",
   "metadata": {},
   "outputs": [
    {
     "name": "stdout",
     "output_type": "stream",
     "text": [
      "class\n",
      "3              30000\n",
      "2              30000\n",
      "4              30000\n",
      "1              30000\n",
      "Class Index        1\n",
      "Name: count, dtype: int64\n",
      "class\n",
      "1    15000\n",
      "2    15000\n",
      "3    15000\n",
      "4    15000\n",
      "Name: count, dtype: int64\n"
     ]
    },
    {
     "name": "stderr",
     "output_type": "stream",
     "text": [
      "C:\\Users\\jothi\\AppData\\Local\\Temp\\ipykernel_12724\\1793310825.py:10: FutureWarning: DataFrameGroupBy.apply operated on the grouping columns. This behavior is deprecated, and in a future version of pandas the grouping columns will be excluded from the operation. Either pass `include_groups=False` to exclude the groupings or explicitly select the grouping columns after groupby to silence this warning.\n",
      "  sampled_df = df.groupby(\"class\", group_keys=False).apply(lambda x: x.sample(frac=0.5, random_state=42))\n"
     ]
    }
   ],
   "source": [
    "import pandas as pd\n",
    "\n",
    "# Load the full dataset\n",
    "df = pd.read_csv(r\"C:\\Users\\jothi\\Desktop\\AG NEWS PROJECT\\train.csv\", header=None, names=[\"class\", \"title\", \"description\"])\n",
    "\n",
    "# Check class distribution\n",
    "print(df[\"class\"].value_counts())\n",
    "\n",
    "# Sample 50% from each class to maintain balance\n",
    "sampled_df = df.groupby(\"class\", group_keys=False).apply(lambda x: x.sample(frac=0.5, random_state=42))\n",
    "\n",
    "# Confirm new distribution\n",
    "print(sampled_df[\"class\"].value_counts())\n",
    "\n",
    "# Save the subset if needed\n",
    "sampled_df.to_csv(\"train_50_percent.csv\", index=False)"
   ]
  },
  {
   "cell_type": "code",
   "execution_count": 3,
   "id": "fd643e45",
   "metadata": {},
   "outputs": [
    {
     "name": "stdout",
     "output_type": "stream",
     "text": [
      "class\n",
      "3              1900\n",
      "2              1900\n",
      "4              1900\n",
      "1              1900\n",
      "Class Index       1\n",
      "Name: count, dtype: int64\n",
      "class\n",
      "1    950\n",
      "2    950\n",
      "3    950\n",
      "4    950\n",
      "Name: count, dtype: int64\n"
     ]
    },
    {
     "name": "stderr",
     "output_type": "stream",
     "text": [
      "C:\\Users\\jothi\\AppData\\Local\\Temp\\ipykernel_12724\\2862552802.py:10: FutureWarning: DataFrameGroupBy.apply operated on the grouping columns. This behavior is deprecated, and in a future version of pandas the grouping columns will be excluded from the operation. Either pass `include_groups=False` to exclude the groupings or explicitly select the grouping columns after groupby to silence this warning.\n",
      "  sampled_df = df.groupby(\"class\", group_keys=False).apply(lambda x: x.sample(frac=0.5, random_state=42))\n"
     ]
    }
   ],
   "source": [
    "import pandas as pd\n",
    "\n",
    "# Load the full dataset\n",
    "df = pd.read_csv(r\"C:\\Users\\jothi\\Desktop\\AG NEWS PROJECT\\test.csv\", header=None, names=[\"class\", \"title\", \"description\"])\n",
    "\n",
    "# Check class distribution\n",
    "print(df[\"class\"].value_counts())\n",
    "\n",
    "# Sample 50% from each class to maintain balance\n",
    "sampled_df = df.groupby(\"class\", group_keys=False).apply(lambda x: x.sample(frac=0.5, random_state=42))\n",
    "\n",
    "# Confirm new distribution\n",
    "print(sampled_df[\"class\"].value_counts())\n",
    "\n",
    "# Save the subset if needed\n",
    "sampled_df.to_csv(\"test_50_percent.csv\", index=False)"
   ]
  },
  {
   "cell_type": "code",
   "execution_count": 6,
   "id": "7abf5a53",
   "metadata": {},
   "outputs": [],
   "source": [
    "from sklearn.model_selection import train_test_split\n",
    "from sklearn.preprocessing import LabelEncoder\n",
    "import re\n",
    "\n",
    "# Load the sampled dataset\n",
    "df = pd.read_csv(r\"C:\\Users\\jothi\\Desktop\\AG NEWS PROJECT\\train_50_percent.csv\")\n",
    "df = pd.read_csv(r\"C:\\Users\\jothi\\Desktop\\AG NEWS PROJECT\\test_50_percent.csv\")\n",
    "\n",
    "# Combine title and description for richer input\n",
    "df[\"text\"] = df[\"title\"].fillna(\"\") + \" \" + df[\"description\"].fillna(\"\")\n",
    "\n",
    "# Basic text cleaning\n",
    "def clean_text(text):\n",
    "    text = re.sub(r\"[^a-zA-Z0-9\\s]\", \"\", text)  # Remove punctuation\n",
    "    text = re.sub(r\"\\s+\", \" \", text)            # Normalize whitespace\n",
    "    return text.strip().lower()\n",
    "\n",
    "df[\"clean_text\"] = df[\"text\"].apply(clean_text)\n",
    "\n",
    "# Encode labels\n",
    "label_encoder = LabelEncoder()\n",
    "df[\"label\"] = label_encoder.fit_transform(df[\"class\"])\n",
    "\n",
    "# Optional: Split into train/val for internal validation\n",
    "X_train, X_val, y_train, y_val = train_test_split(\n",
    "    df[\"clean_text\"], df[\"label\"], test_size=0.2, stratify=df[\"label\"], random_state=42\n",
    ")"
   ]
  },
  {
   "cell_type": "markdown",
   "id": "95efa2ef",
   "metadata": {},
   "source": [
    "EDA"
   ]
  },
  {
   "cell_type": "code",
   "execution_count": null,
   "id": "6fda0625",
   "metadata": {},
   "outputs": [],
   "source": [
    "#•\tVisualize class distribution using bar charts.\n",
    "\n",
    "import matplotlib.pyplot as plt\n",
    "import seaborn as sns\n",
    "\n",
    "# --------------------------\n",
    "# Class Distribution - Train\n",
    "# --------------------------\n",
    "plt.figure(figsize=(6,4))\n",
    "sns.countplot(x=\"label\", data=train_df, palette=\"viridis\")\n",
    "plt.title(\"Class Distribution - Train Set\")\n",
    "plt.xlabel(\"Class Label\")\n",
    "plt.ylabel(\"Count\")\n",
    "plt.xticks([0,1,2,3], [\"World\", \"Sports\", \"Business\", \"Sci/Tech\"])\n",
    "plt.show()\n",
    "\n",
    "# --------------------------\n",
    "# Class Distribution - Test\n",
    "# --------------------------\n",
    "plt.figure(figsize=(6,4))\n",
    "sns.countplot(x=\"label\", data=test_df, palette=\"magma\")\n",
    "plt.title(\"Class Distribution - Test Set\")\n",
    "plt.xlabel(\"Class Label\")\n",
    "plt.ylabel(\"Count\")\n",
    "plt.xticks([0,1,2,3], [\"World\", \"Sports\", \"Business\", \"Sci/Tech\"])\n",
    "plt.show()\n"
   ]
  },
  {
   "cell_type": "code",
   "execution_count": null,
   "id": "2da0e87d",
   "metadata": {},
   "outputs": [],
   "source": [
    "#•\tGenerate word clouds for each category.\n",
    "\n",
    "from wordcloud import WordCloud\n",
    "import matplotlib.pyplot as plt\n",
    "\n",
    "# --------------------------\n",
    "# Generate word clouds per category\n",
    "# --------------------------\n",
    "categories = {0: \"World\", 1: \"Sports\", 2: \"Business\", 3: \"Sci/Tech\"}\n",
    "\n",
    "plt.figure(figsize=(16,10))\n",
    "\n",
    "for label, category in categories.items():\n",
    "    text_data = \" \".join(train_df[train_df[\"label\"] == label][\"text\"].astype(str).tolist())\n",
    "    \n",
    "    wordcloud = WordCloud(\n",
    "        width=800,\n",
    "        height=400,\n",
    "        background_color=\"white\",\n",
    "        colormap=\"viridis\",\n",
    "        max_words=100\n",
    "    ).generate(text_data)\n",
    "    \n",
    "    plt.subplot(2, 2, label+1)\n",
    "    plt.imshow(wordcloud, interpolation=\"bilinear\")\n",
    "    plt.axis(\"off\")\n",
    "    plt.title(f\"Word Cloud - {category}\", fontsize=14)\n",
    "\n",
    "plt.tight_layout()\n",
    "plt.show()\n"
   ]
  },
  {
   "cell_type": "code",
   "execution_count": null,
   "id": "c45425cf",
   "metadata": {},
   "outputs": [],
   "source": [
    "# \tAverage word count per article\n",
    "\n",
    "import matplotlib.pyplot as plt\n",
    "import seaborn as sns\n",
    "\n",
    "# --------------------------\n",
    "# Word Count Calculation\n",
    "# --------------------------\n",
    "train_df[\"word_count\"] = train_df[\"text\"].apply(lambda x: len(str(x).split()))\n",
    "\n",
    "# Average word count per class\n",
    "avg_word_count = train_df.groupby(\"label\")[\"word_count\"].mean()\n",
    "\n",
    "# Category names\n",
    "categories = {0: \"World\", 1: \"Sports\", 2: \"Business\", 3: \"Sci/Tech\"}\n",
    "\n",
    "# --------------------------\n",
    "# Plot\n",
    "# --------------------------\n",
    "plt.figure(figsize=(7,5))\n",
    "sns.barplot(x=avg_word_count.index, y=avg_word_count.values, palette=\"viridis\")\n",
    "\n",
    "plt.title(\"Average Word Count per Article\", fontsize=14)\n",
    "plt.xlabel(\"Category\")\n",
    "plt.ylabel(\"Average Word Count\")\n",
    "plt.xticks([0,1,2,3], [categories[i] for i in avg_word_count.index])\n",
    "plt.show()\n"
   ]
  },
  {
   "cell_type": "code",
   "execution_count": null,
   "id": "2973b061",
   "metadata": {},
   "outputs": [],
   "source": [
    "#\tDescription/title length distribution\n",
    "\n",
    "import matplotlib.pyplot as plt\n",
    "import seaborn as sns\n",
    "\n",
    "# --------------------------\n",
    "# Calculate word counts\n",
    "# --------------------------\n",
    "train_df[\"title_len\"] = train_df[\"title\"].apply(lambda x: len(str(x).split()))\n",
    "train_df[\"desc_len\"]  = train_df[\"description\"].apply(lambda x: len(str(x).split()))\n",
    "\n",
    "# --------------------------\n",
    "# Plot distributions\n",
    "# --------------------------\n",
    "plt.figure(figsize=(12,5))\n",
    "\n",
    "# Title length distribution\n",
    "plt.subplot(1,2,1)\n",
    "sns.histplot(train_df[\"title_len\"], bins=30, kde=True, color=\"skyblue\")\n",
    "plt.title(\"Title Length Distribution\", fontsize=14)\n",
    "plt.xlabel(\"Number of Words in Title\")\n",
    "plt.ylabel(\"Frequency\")\n",
    "\n",
    "# Description length distribution\n",
    "plt.subplot(1,2,2)\n",
    "sns.histplot(train_df[\"desc_len\"], bins=30, kde=True, color=\"salmon\")\n",
    "plt.title(\"Description Length Distribution\", fontsize=14)\n",
    "plt.xlabel(\"Number of Words in Description\")\n",
    "plt.ylabel(\"Frequency\")\n",
    "\n",
    "plt.tight_layout()\n",
    "plt.show()\n"
   ]
  },
  {
   "cell_type": "code",
   "execution_count": null,
   "id": "87149a51",
   "metadata": {},
   "outputs": [],
   "source": [
    "# •\tCreate a heatmap showing frequent words per class.\n",
    "\n",
    "import pandas as pd\n",
    "import seaborn as sns\n",
    "import matplotlib.pyplot as plt\n",
    "from collections import Counter\n",
    "import re\n",
    "\n",
    "# --------------------------\n",
    "# Simple tokenizer (remove non-alphabetic, lowercase, split)\n",
    "# --------------------------\n",
    "def tokenize(text):\n",
    "    text = re.sub(r\"[^a-zA-Z]\", \" \", str(text))  # keep only letters\n",
    "    return text.lower().split()\n",
    "\n",
    "# --------------------------\n",
    "# Get top words per class\n",
    "# --------------------------\n",
    "categories = {0: \"World\", 1: \"Sports\", 2: \"Business\", 3: \"Sci/Tech\"}\n",
    "top_n = 15   # top N words to display\n",
    "\n",
    "word_freqs = {}\n",
    "\n",
    "for label, cat_name in categories.items():\n",
    "    texts = train_df[train_df[\"label\"] == label][\"text\"].astype(str).tolist()\n",
    "    tokens = []\n",
    "    for t in texts:\n",
    "        tokens.extend(tokenize(t))\n",
    "    counter = Counter(tokens)\n",
    "    most_common = dict(counter.most_common(top_n))\n",
    "    word_freqs[cat_name] = most_common\n",
    "\n",
    "# --------------------------\n",
    "# Convert to DataFrame\n",
    "# --------------------------\n",
    "df_heatmap = pd.DataFrame(word_freqs).fillna(0).astype(int).T  # classes as rows\n",
    "\n",
    "# --------------------------\n",
    "# Plot Heatmap\n",
    "# --------------------------\n",
    "plt.figure(figsize=(14,6))\n",
    "sns.heatmap(df_heatmap, cmap=\"YlGnBu\", annot=True, fmt=\"d\")\n",
    "plt.title(f\"Top {top_n} Frequent Words per Class\", fontsize=16)\n",
    "plt.ylabel(\"Category\")\n",
    "plt.xlabel(\"Word\")\n",
    "plt.show()\n"
   ]
  },
  {
   "cell_type": "code",
   "execution_count": 7,
   "id": "dabb86d3",
   "metadata": {},
   "outputs": [],
   "source": [
    "from sklearn.feature_extraction.text import TfidfVectorizer\n",
    "\n",
    "# Initialize TF-IDF vectorizer\n",
    "vectorizer = TfidfVectorizer(max_features=5000, ngram_range=(1,2))\n",
    "\n",
    "# Fit and transform training data\n",
    "X_train_tfidf = vectorizer.fit_transform(X_train)\n",
    "X_val_tfidf = vectorizer.transform(X_val)"
   ]
  },
  {
   "cell_type": "code",
   "execution_count": 8,
   "id": "4e8e408b",
   "metadata": {},
   "outputs": [
    {
     "name": "stderr",
     "output_type": "stream",
     "text": [
      "c:\\Users\\jothi\\AppData\\Local\\Programs\\Python\\Python310\\lib\\site-packages\\tqdm\\auto.py:21: TqdmWarning: IProgress not found. Please update jupyter and ipywidgets. See https://ipywidgets.readthedocs.io/en/stable/user_install.html\n",
      "  from .autonotebook import tqdm as notebook_tqdm\n",
      "c:\\Users\\jothi\\AppData\\Local\\Programs\\Python\\Python310\\lib\\site-packages\\huggingface_hub\\file_download.py:143: UserWarning: `huggingface_hub` cache-system uses symlinks by default to efficiently store duplicated files but your machine does not support them in C:\\Users\\jothi\\.cache\\huggingface\\hub\\models--bert-base-uncased. Caching files will still work but in a degraded version that might require more space on your disk. This warning can be disabled by setting the `HF_HUB_DISABLE_SYMLINKS_WARNING` environment variable. For more details, see https://huggingface.co/docs/huggingface_hub/how-to-cache#limitations.\n",
      "To support symlinks on Windows, you either need to activate Developer Mode or to run Python as an administrator. In order to activate developer mode, see this article: https://docs.microsoft.com/en-us/windows/apps/get-started/enable-your-device-for-development\n",
      "  warnings.warn(message)\n"
     ]
    }
   ],
   "source": [
    "from transformers import AutoTokenizer\n",
    "\n",
    "# Load tokenizer\n",
    "tokenizer = AutoTokenizer.from_pretrained(\"bert-base-uncased\")\n",
    "\n",
    "# Tokenize text\n",
    "train_encodings = tokenizer(list(X_train), truncation=True, padding=True, max_length=256)\n",
    "val_encodings = tokenizer(list(X_val), truncation=True, padding=True, max_length=256)"
   ]
  },
  {
   "cell_type": "code",
   "execution_count": 9,
   "id": "e23018ee",
   "metadata": {},
   "outputs": [
    {
     "name": "stdout",
     "output_type": "stream",
     "text": [
      "Requirement already satisfied: transformers in c:\\users\\jothi\\appdata\\local\\programs\\python\\python310\\lib\\site-packages (4.54.1)\n",
      "Requirement already satisfied: datasets in c:\\users\\jothi\\appdata\\local\\programs\\python\\python310\\lib\\site-packages (4.0.0)\n",
      "Requirement already satisfied: scikit-learn in c:\\users\\jothi\\appdata\\local\\programs\\python\\python310\\lib\\site-packages (1.7.1)\n",
      "Requirement already satisfied: filelock in c:\\users\\jothi\\appdata\\local\\programs\\python\\python310\\lib\\site-packages (from transformers) (3.18.0)\n",
      "Requirement already satisfied: huggingface-hub<1.0,>=0.34.0 in c:\\users\\jothi\\appdata\\local\\programs\\python\\python310\\lib\\site-packages (from transformers) (0.34.3)\n",
      "Requirement already satisfied: tokenizers<0.22,>=0.21 in c:\\users\\jothi\\appdata\\local\\programs\\python\\python310\\lib\\site-packages (from transformers) (0.21.4)\n",
      "Requirement already satisfied: safetensors>=0.4.3 in c:\\users\\jothi\\appdata\\local\\programs\\python\\python310\\lib\\site-packages (from transformers) (0.5.3)\n",
      "Requirement already satisfied: tqdm>=4.27 in c:\\users\\jothi\\appdata\\local\\programs\\python\\python310\\lib\\site-packages (from transformers) (4.67.1)\n",
      "Requirement already satisfied: numpy>=1.17 in c:\\users\\jothi\\appdata\\local\\programs\\python\\python310\\lib\\site-packages (from transformers) (2.1.3)\n",
      "Requirement already satisfied: pyyaml>=5.1 in c:\\users\\jothi\\appdata\\local\\programs\\python\\python310\\lib\\site-packages (from transformers) (6.0.2)\n",
      "Requirement already satisfied: regex!=2019.12.17 in c:\\users\\jothi\\appdata\\local\\programs\\python\\python310\\lib\\site-packages (from transformers) (2025.7.34)\n",
      "Requirement already satisfied: packaging>=20.0 in c:\\users\\jothi\\appdata\\roaming\\python\\python310\\site-packages (from transformers) (25.0)\n",
      "Requirement already satisfied: requests in c:\\users\\jothi\\appdata\\local\\programs\\python\\python310\\lib\\site-packages (from transformers) (2.32.4)\n",
      "Requirement already satisfied: pyarrow>=15.0.0 in c:\\users\\jothi\\appdata\\local\\programs\\python\\python310\\lib\\site-packages (from datasets) (21.0.0)\n",
      "Requirement already satisfied: dill<0.3.9,>=0.3.0 in c:\\users\\jothi\\appdata\\local\\programs\\python\\python310\\lib\\site-packages (from datasets) (0.3.8)\n",
      "Requirement already satisfied: pandas in c:\\users\\jothi\\appdata\\local\\programs\\python\\python310\\lib\\site-packages (from datasets) (2.3.1)\n",
      "Requirement already satisfied: multiprocess<0.70.17 in c:\\users\\jothi\\appdata\\local\\programs\\python\\python310\\lib\\site-packages (from datasets) (0.70.16)\n",
      "Requirement already satisfied: xxhash in c:\\users\\jothi\\appdata\\local\\programs\\python\\python310\\lib\\site-packages (from datasets) (3.5.0)\n",
      "Requirement already satisfied: fsspec[http]<=2025.3.0,>=2023.1.0 in c:\\users\\jothi\\appdata\\local\\programs\\python\\python310\\lib\\site-packages (from datasets) (2025.3.0)\n",
      "Requirement already satisfied: threadpoolctl>=3.1.0 in c:\\users\\jothi\\appdata\\local\\programs\\python\\python310\\lib\\site-packages (from scikit-learn) (3.6.0)\n",
      "Requirement already satisfied: scipy>=1.8.0 in c:\\users\\jothi\\appdata\\local\\programs\\python\\python310\\lib\\site-packages (from scikit-learn) (1.15.3)\n",
      "Requirement already satisfied: joblib>=1.2.0 in c:\\users\\jothi\\appdata\\local\\programs\\python\\python310\\lib\\site-packages (from scikit-learn) (1.5.1)\n",
      "Requirement already satisfied: aiohttp!=4.0.0a0,!=4.0.0a1 in c:\\users\\jothi\\appdata\\local\\programs\\python\\python310\\lib\\site-packages (from fsspec[http]<=2025.3.0,>=2023.1.0->datasets) (3.12.15)\n",
      "Requirement already satisfied: aiohappyeyeballs>=2.5.0 in c:\\users\\jothi\\appdata\\local\\programs\\python\\python310\\lib\\site-packages (from aiohttp!=4.0.0a0,!=4.0.0a1->fsspec[http]<=2025.3.0,>=2023.1.0->datasets) (2.6.1)\n",
      "Requirement already satisfied: aiosignal>=1.4.0 in c:\\users\\jothi\\appdata\\local\\programs\\python\\python310\\lib\\site-packages (from aiohttp!=4.0.0a0,!=4.0.0a1->fsspec[http]<=2025.3.0,>=2023.1.0->datasets) (1.4.0)\n",
      "Requirement already satisfied: attrs>=17.3.0 in c:\\users\\jothi\\appdata\\local\\programs\\python\\python310\\lib\\site-packages (from aiohttp!=4.0.0a0,!=4.0.0a1->fsspec[http]<=2025.3.0,>=2023.1.0->datasets) (25.3.0)\n",
      "Requirement already satisfied: async-timeout<6.0,>=4.0 in c:\\users\\jothi\\appdata\\local\\programs\\python\\python310\\lib\\site-packages (from aiohttp!=4.0.0a0,!=4.0.0a1->fsspec[http]<=2025.3.0,>=2023.1.0->datasets) (5.0.1)\n",
      "Requirement already satisfied: multidict<7.0,>=4.5 in c:\\users\\jothi\\appdata\\local\\programs\\python\\python310\\lib\\site-packages (from aiohttp!=4.0.0a0,!=4.0.0a1->fsspec[http]<=2025.3.0,>=2023.1.0->datasets) (6.6.4)\n",
      "Requirement already satisfied: yarl<2.0,>=1.17.0 in c:\\users\\jothi\\appdata\\local\\programs\\python\\python310\\lib\\site-packages (from aiohttp!=4.0.0a0,!=4.0.0a1->fsspec[http]<=2025.3.0,>=2023.1.0->datasets) (1.20.1)\n",
      "Requirement already satisfied: frozenlist>=1.1.1 in c:\\users\\jothi\\appdata\\local\\programs\\python\\python310\\lib\\site-packages (from aiohttp!=4.0.0a0,!=4.0.0a1->fsspec[http]<=2025.3.0,>=2023.1.0->datasets) (1.7.0)\n",
      "Requirement already satisfied: propcache>=0.2.0 in c:\\users\\jothi\\appdata\\local\\programs\\python\\python310\\lib\\site-packages (from aiohttp!=4.0.0a0,!=4.0.0a1->fsspec[http]<=2025.3.0,>=2023.1.0->datasets) (0.3.2)\n",
      "Requirement already satisfied: typing-extensions>=4.2 in c:\\users\\jothi\\appdata\\roaming\\python\\python310\\site-packages (from aiosignal>=1.4.0->aiohttp!=4.0.0a0,!=4.0.0a1->fsspec[http]<=2025.3.0,>=2023.1.0->datasets) (4.14.1)\n",
      "Requirement already satisfied: urllib3<3,>=1.21.1 in c:\\users\\jothi\\appdata\\local\\programs\\python\\python310\\lib\\site-packages (from requests->transformers) (2.5.0)\n",
      "Requirement already satisfied: charset_normalizer<4,>=2 in c:\\users\\jothi\\appdata\\local\\programs\\python\\python310\\lib\\site-packages (from requests->transformers) (3.4.2)\n",
      "Requirement already satisfied: certifi>=2017.4.17 in c:\\users\\jothi\\appdata\\local\\programs\\python\\python310\\lib\\site-packages (from requests->transformers) (2025.7.14)\n",
      "Requirement already satisfied: idna<4,>=2.5 in c:\\users\\jothi\\appdata\\local\\programs\\python\\python310\\lib\\site-packages (from requests->transformers) (3.10)\n",
      "Requirement already satisfied: colorama in c:\\users\\jothi\\appdata\\roaming\\python\\python310\\site-packages (from tqdm>=4.27->transformers) (0.4.6)\n",
      "Requirement already satisfied: python-dateutil>=2.8.2 in c:\\users\\jothi\\appdata\\roaming\\python\\python310\\site-packages (from pandas->datasets) (2.9.0.post0)\n",
      "Requirement already satisfied: tzdata>=2022.7 in c:\\users\\jothi\\appdata\\local\\programs\\python\\python310\\lib\\site-packages (from pandas->datasets) (2025.2)\n",
      "Requirement already satisfied: pytz>=2020.1 in c:\\users\\jothi\\appdata\\local\\programs\\python\\python310\\lib\\site-packages (from pandas->datasets) (2025.2)\n",
      "Requirement already satisfied: six>=1.5 in c:\\users\\jothi\\appdata\\roaming\\python\\python310\\site-packages (from python-dateutil>=2.8.2->pandas->datasets) (1.17.0)\n",
      "Note: you may need to restart the kernel to use updated packages.\n"
     ]
    },
    {
     "name": "stderr",
     "output_type": "stream",
     "text": [
      "WARNING: You are using pip version 21.2.3; however, version 25.2 is available.\n",
      "You should consider upgrading via the 'c:\\Users\\jothi\\AppData\\Local\\Programs\\Python\\Python310\\python.exe -m pip install --upgrade pip' command.\n"
     ]
    }
   ],
   "source": [
    "pip install transformers datasets scikit-learn"
   ]
  },
  {
   "cell_type": "code",
   "execution_count": 13,
   "id": "eb48c42b",
   "metadata": {},
   "outputs": [
    {
     "name": "stderr",
     "output_type": "stream",
     "text": [
      "Casting the dataset: 100%|██████████| 3800/3800 [00:00<00:00, 70142.88 examples/s]\n"
     ]
    }
   ],
   "source": [
    "from datasets import Dataset, ClassLabel\n",
    "\n",
    "# Convert pandas to HF Dataset\n",
    "dataset = Dataset.from_pandas(df_train[[\"text\", \"label\"]])\n",
    "\n",
    "# Manually cast 'label' column to ClassLabel\n",
    "features = dataset.features.copy()\n",
    "features[\"label\"] = ClassLabel(names=[\"world\", \"sports\", \"business\", \"sci/tech\"])  # Adjust if needed\n",
    "dataset = dataset.cast(features)\n",
    "\n",
    "# Now stratified split will work\n",
    "dataset = dataset.train_test_split(test_size=0.2, stratify_by_column=\"label\", seed=42)"
   ]
  },
  {
   "cell_type": "code",
   "execution_count": 22,
   "id": "34d9fe2b",
   "metadata": {},
   "outputs": [
    {
     "name": "stderr",
     "output_type": "stream",
     "text": [
      "Casting the dataset: 100%|██████████| 3800/3800 [00:00<00:00, 498026.91 examples/s]\n"
     ]
    }
   ],
   "source": [
    "from datasets import Dataset, Features, ClassLabel, Value\n",
    "\n",
    "# Step 1: Create the dataset\n",
    "dataset = Dataset.from_pandas(df_train[[\"text\", \"label\"]])\n",
    "\n",
    "# Step 2: Define features with ClassLabel\n",
    "features = Features({\n",
    "    \"text\": Value(\"string\"),\n",
    "    \"label\": ClassLabel(num_classes=4)  # Adjust if you have more/less classes\n",
    "})\n",
    "\n",
    "# Step 3: Cast dataset to use ClassLabel\n",
    "dataset = dataset.cast(features)\n",
    "\n",
    "# Step 4: Now perform stratified split\n",
    "dataset = dataset.train_test_split(test_size=0.2, stratify_by_column=\"label\", seed=42)"
   ]
  },
  {
   "cell_type": "code",
   "execution_count": 25,
   "id": "5aa53686",
   "metadata": {},
   "outputs": [
    {
     "name": "stdout",
     "output_type": "stream",
     "text": [
      "Requirement already satisfied: transformers in c:\\users\\jothi\\appdata\\local\\programs\\python\\python310\\lib\\site-packages (4.54.1)Note: you may need to restart the kernel to use updated packages.\n",
      "\n",
      "Collecting transformers\n",
      "  Using cached transformers-4.56.1-py3-none-any.whl (11.6 MB)\n",
      "Requirement already satisfied: filelock in c:\\users\\jothi\\appdata\\local\\programs\\python\\python310\\lib\\site-packages (from transformers) (3.18.0)\n",
      "Requirement already satisfied: safetensors>=0.4.3 in c:\\users\\jothi\\appdata\\local\\programs\\python\\python310\\lib\\site-packages (from transformers) (0.5.3)\n",
      "Requirement already satisfied: pyyaml>=5.1 in c:\\users\\jothi\\appdata\\local\\programs\\python\\python310\\lib\\site-packages (from transformers) (6.0.2)\n",
      "Requirement already satisfied: numpy>=1.17 in c:\\users\\jothi\\appdata\\local\\programs\\python\\python310\\lib\\site-packages (from transformers) (2.1.3)\n",
      "Requirement already satisfied: packaging>=20.0 in c:\\users\\jothi\\appdata\\roaming\\python\\python310\\site-packages (from transformers) (25.0)\n",
      "Collecting tokenizers<=0.23.0,>=0.22.0\n",
      "  Using cached tokenizers-0.22.0-cp39-abi3-win_amd64.whl (2.7 MB)\n",
      "Requirement already satisfied: regex!=2019.12.17 in c:\\users\\jothi\\appdata\\local\\programs\\python\\python310\\lib\\site-packages (from transformers) (2025.7.34)\n",
      "Requirement already satisfied: requests in c:\\users\\jothi\\appdata\\local\\programs\\python\\python310\\lib\\site-packages (from transformers) (2.32.4)\n",
      "Requirement already satisfied: huggingface-hub<1.0,>=0.34.0 in c:\\users\\jothi\\appdata\\local\\programs\\python\\python310\\lib\\site-packages (from transformers) (0.34.3)\n",
      "Requirement already satisfied: tqdm>=4.27 in c:\\users\\jothi\\appdata\\local\\programs\\python\\python310\\lib\\site-packages (from transformers) (4.67.1)\n",
      "Requirement already satisfied: typing-extensions>=3.7.4.3 in c:\\users\\jothi\\appdata\\roaming\\python\\python310\\site-packages (from huggingface-hub<1.0,>=0.34.0->transformers) (4.14.1)\n",
      "Requirement already satisfied: fsspec>=2023.5.0 in c:\\users\\jothi\\appdata\\local\\programs\\python\\python310\\lib\\site-packages (from huggingface-hub<1.0,>=0.34.0->transformers) (2025.3.0)\n",
      "Requirement already satisfied: colorama in c:\\users\\jothi\\appdata\\roaming\\python\\python310\\site-packages (from tqdm>=4.27->transformers) (0.4.6)\n",
      "Requirement already satisfied: urllib3<3,>=1.21.1 in c:\\users\\jothi\\appdata\\local\\programs\\python\\python310\\lib\\site-packages (from requests->transformers) (2.5.0)\n",
      "Requirement already satisfied: certifi>=2017.4.17 in c:\\users\\jothi\\appdata\\local\\programs\\python\\python310\\lib\\site-packages (from requests->transformers) (2025.7.14)\n",
      "Requirement already satisfied: charset_normalizer<4,>=2 in c:\\users\\jothi\\appdata\\local\\programs\\python\\python310\\lib\\site-packages (from requests->transformers) (3.4.2)\n",
      "Requirement already satisfied: idna<4,>=2.5 in c:\\users\\jothi\\appdata\\local\\programs\\python\\python310\\lib\\site-packages (from requests->transformers) (3.10)\n",
      "Installing collected packages: tokenizers, transformers\n",
      "  Attempting uninstall: tokenizers\n",
      "    Found existing installation: tokenizers 0.21.4\n",
      "    Uninstalling tokenizers-0.21.4:\n",
      "      Successfully uninstalled tokenizers-0.21.4\n"
     ]
    },
    {
     "name": "stderr",
     "output_type": "stream",
     "text": [
      "ERROR: Could not install packages due to an OSError: [WinError 5] Access is denied: 'C:\\\\Users\\\\jothi\\\\AppData\\\\Local\\\\Programs\\\\Python\\\\Python310\\\\Lib\\\\site-packages\\\\~-kenizers\\\\tokenizers.pyd'\n",
      "Consider using the `--user` option or check the permissions.\n",
      "\n",
      "WARNING: You are using pip version 21.2.3; however, version 25.2 is available.\n",
      "You should consider upgrading via the 'c:\\Users\\jothi\\AppData\\Local\\Programs\\Python\\Python310\\python.exe -m pip install --upgrade pip' command.\n"
     ]
    }
   ],
   "source": [
    "pip install --upgrade transformers\n"
   ]
  },
  {
   "cell_type": "code",
   "execution_count": 34,
   "id": "2ef4c8a7",
   "metadata": {},
   "outputs": [
    {
     "name": "stdout",
     "output_type": "stream",
     "text": [
      "Requirement already satisfied: transformers in c:\\users\\jothi\\appdata\\roaming\\python\\python310\\site-packages (4.56.1)\n",
      "Requirement already satisfied: filelock in c:\\users\\jothi\\appdata\\local\\programs\\python\\python310\\lib\\site-packages (from transformers) (3.18.0)\n",
      "Requirement already satisfied: huggingface-hub<1.0,>=0.34.0 in c:\\users\\jothi\\appdata\\local\\programs\\python\\python310\\lib\\site-packages (from transformers) (0.34.3)\n",
      "Requirement already satisfied: numpy>=1.17 in c:\\users\\jothi\\appdata\\local\\programs\\python\\python310\\lib\\site-packages (from transformers) (2.1.3)\n",
      "Requirement already satisfied: packaging>=20.0 in c:\\users\\jothi\\appdata\\roaming\\python\\python310\\site-packages (from transformers) (25.0)\n",
      "Requirement already satisfied: pyyaml>=5.1 in c:\\users\\jothi\\appdata\\local\\programs\\python\\python310\\lib\\site-packages (from transformers) (6.0.2)\n",
      "Requirement already satisfied: regex!=2019.12.17 in c:\\users\\jothi\\appdata\\local\\programs\\python\\python310\\lib\\site-packages (from transformers) (2025.7.34)\n",
      "Requirement already satisfied: requests in c:\\users\\jothi\\appdata\\local\\programs\\python\\python310\\lib\\site-packages (from transformers) (2.32.4)\n",
      "Requirement already satisfied: tokenizers<=0.23.0,>=0.22.0 in c:\\users\\jothi\\appdata\\local\\programs\\python\\python310\\lib\\site-packages (from transformers) (0.22.0)\n",
      "Requirement already satisfied: safetensors>=0.4.3 in c:\\users\\jothi\\appdata\\local\\programs\\python\\python310\\lib\\site-packages (from transformers) (0.5.3)\n",
      "Requirement already satisfied: tqdm>=4.27 in c:\\users\\jothi\\appdata\\local\\programs\\python\\python310\\lib\\site-packages (from transformers) (4.67.1)\n",
      "Requirement already satisfied: fsspec>=2023.5.0 in c:\\users\\jothi\\appdata\\local\\programs\\python\\python310\\lib\\site-packages (from huggingface-hub<1.0,>=0.34.0->transformers) (2025.3.0)\n",
      "Requirement already satisfied: typing-extensions>=3.7.4.3 in c:\\users\\jothi\\appdata\\roaming\\python\\python310\\site-packages (from huggingface-hub<1.0,>=0.34.0->transformers) (4.14.1)\n",
      "Requirement already satisfied: colorama in c:\\users\\jothi\\appdata\\local\\programs\\python\\python310\\lib\\site-packages (from tqdm>=4.27->transformers) (0.4.6)\n",
      "Requirement already satisfied: charset_normalizer<4,>=2 in c:\\users\\jothi\\appdata\\local\\programs\\python\\python310\\lib\\site-packages (from requests->transformers) (3.4.3)\n",
      "Requirement already satisfied: idna<4,>=2.5 in c:\\users\\jothi\\appdata\\local\\programs\\python\\python310\\lib\\site-packages (from requests->transformers) (3.10)\n",
      "Requirement already satisfied: urllib3<3,>=1.21.1 in c:\\users\\jothi\\appdata\\local\\programs\\python\\python310\\lib\\site-packages (from requests->transformers) (2.5.0)\n",
      "Requirement already satisfied: certifi>=2017.4.17 in c:\\users\\jothi\\appdata\\local\\programs\\python\\python310\\lib\\site-packages (from requests->transformers) (2025.7.14)\n",
      "Note: you may need to restart the kernel to use updated packages.\n"
     ]
    }
   ],
   "source": [
    "pip install --upgrade --user transformers\n"
   ]
  },
  {
   "cell_type": "code",
   "execution_count": 48,
   "id": "7affa46c",
   "metadata": {},
   "outputs": [
    {
     "name": "stdout",
     "output_type": "stream",
     "text": [
      "Requirement already satisfied: torch in c:\\users\\jothi\\appdata\\local\\programs\\python\\python310\\lib\\site-packages (2.8.0)\n",
      "Requirement already satisfied: filelock in c:\\users\\jothi\\appdata\\local\\programs\\python\\python310\\lib\\site-packages (from torch) (3.18.0)\n",
      "Requirement already satisfied: typing-extensions>=4.10.0 in c:\\users\\jothi\\appdata\\roaming\\python\\python310\\site-packages (from torch) (4.14.1)\n",
      "Requirement already satisfied: sympy>=1.13.3 in c:\\users\\jothi\\appdata\\local\\programs\\python\\python310\\lib\\site-packages (from torch) (1.14.0)\n",
      "Requirement already satisfied: networkx in c:\\users\\jothi\\appdata\\local\\programs\\python\\python310\\lib\\site-packages (from torch) (3.4.2)\n",
      "Requirement already satisfied: jinja2 in c:\\users\\jothi\\appdata\\local\\programs\\python\\python310\\lib\\site-packages (from torch) (3.1.6)\n",
      "Requirement already satisfied: fsspec in c:\\users\\jothi\\appdata\\local\\programs\\python\\python310\\lib\\site-packages (from torch) (2025.3.0)\n",
      "Requirement already satisfied: mpmath<1.4,>=1.1.0 in c:\\users\\jothi\\appdata\\local\\programs\\python\\python310\\lib\\site-packages (from sympy>=1.13.3->torch) (1.3.0)\n",
      "Requirement already satisfied: MarkupSafe>=2.0 in c:\\users\\jothi\\appdata\\local\\programs\\python\\python310\\lib\\site-packages (from jinja2->torch) (3.0.2)\n",
      "Note: you may need to restart the kernel to use updated packages.\n"
     ]
    }
   ],
   "source": [
    "pip install torch --upgrade"
   ]
  },
  {
   "cell_type": "code",
   "execution_count": 9,
   "id": "3be846b1",
   "metadata": {},
   "outputs": [
    {
     "name": "stdout",
     "output_type": "stream",
     "text": [
      "Requirement already satisfied: transformers in c:\\users\\jothi\\appdata\\roaming\\python\\python310\\site-packages (4.56.1)\n",
      "Requirement already satisfied: filelock in c:\\users\\jothi\\appdata\\local\\programs\\python\\python310\\lib\\site-packages (from transformers) (3.18.0)\n",
      "Requirement already satisfied: huggingface-hub<1.0,>=0.34.0 in c:\\users\\jothi\\appdata\\local\\programs\\python\\python310\\lib\\site-packages (from transformers) (0.34.3)\n",
      "Requirement already satisfied: numpy>=1.17 in c:\\users\\jothi\\appdata\\local\\programs\\python\\python310\\lib\\site-packages (from transformers) (2.1.3)\n",
      "Requirement already satisfied: packaging>=20.0 in c:\\users\\jothi\\appdata\\roaming\\python\\python310\\site-packages (from transformers) (25.0)\n",
      "Requirement already satisfied: pyyaml>=5.1 in c:\\users\\jothi\\appdata\\local\\programs\\python\\python310\\lib\\site-packages (from transformers) (6.0.2)\n",
      "Requirement already satisfied: regex!=2019.12.17 in c:\\users\\jothi\\appdata\\local\\programs\\python\\python310\\lib\\site-packages (from transformers) (2025.7.34)\n",
      "Requirement already satisfied: requests in c:\\users\\jothi\\appdata\\local\\programs\\python\\python310\\lib\\site-packages (from transformers) (2.32.4)\n",
      "Requirement already satisfied: tokenizers<=0.23.0,>=0.22.0 in c:\\users\\jothi\\appdata\\local\\programs\\python\\python310\\lib\\site-packages (from transformers) (0.22.0)\n",
      "Requirement already satisfied: safetensors>=0.4.3 in c:\\users\\jothi\\appdata\\local\\programs\\python\\python310\\lib\\site-packages (from transformers) (0.5.3)\n",
      "Requirement already satisfied: tqdm>=4.27 in c:\\users\\jothi\\appdata\\local\\programs\\python\\python310\\lib\\site-packages (from transformers) (4.67.1)\n",
      "Requirement already satisfied: fsspec>=2023.5.0 in c:\\users\\jothi\\appdata\\local\\programs\\python\\python310\\lib\\site-packages (from huggingface-hub<1.0,>=0.34.0->transformers) (2025.3.0)\n",
      "Requirement already satisfied: typing-extensions>=3.7.4.3 in c:\\users\\jothi\\appdata\\roaming\\python\\python310\\site-packages (from huggingface-hub<1.0,>=0.34.0->transformers) (4.14.1)\n",
      "Requirement already satisfied: colorama in c:\\users\\jothi\\appdata\\local\\programs\\python\\python310\\lib\\site-packages (from tqdm>=4.27->transformers) (0.4.6)\n",
      "Requirement already satisfied: charset_normalizer<4,>=2 in c:\\users\\jothi\\appdata\\local\\programs\\python\\python310\\lib\\site-packages (from requests->transformers) (3.4.3)\n",
      "Requirement already satisfied: idna<4,>=2.5 in c:\\users\\jothi\\appdata\\local\\programs\\python\\python310\\lib\\site-packages (from requests->transformers) (3.10)\n",
      "Requirement already satisfied: urllib3<3,>=1.21.1 in c:\\users\\jothi\\appdata\\local\\programs\\python\\python310\\lib\\site-packages (from requests->transformers) (2.5.0)\n",
      "Requirement already satisfied: certifi>=2017.4.17 in c:\\users\\jothi\\appdata\\local\\programs\\python\\python310\\lib\\site-packages (from requests->transformers) (2025.7.14)\n",
      "Note: you may need to restart the kernel to use updated packages.\n"
     ]
    }
   ],
   "source": [
    "pip install --upgrade transformers"
   ]
  },
  {
   "cell_type": "code",
   "execution_count": 14,
   "id": "bcabc323",
   "metadata": {},
   "outputs": [
    {
     "name": "stdout",
     "output_type": "stream",
     "text": [
      "   label                                              title  \\\n",
      "0      0  Large Explosion Heard in Central Baghdad (Reut...   \n",
      "1      0         Israel OKs More West Bank Settlement Homes   \n",
      "2      0          Scores of Iraqis die in 3 days of attacks   \n",
      "3      0                 At least 20 dead in Kurkik bombing   \n",
      "4      0                     Israel, Egypt in Prisoner Swap   \n",
      "\n",
      "                                         description  \\\n",
      "0  Reuters - A large blast was heard in central\\B...   \n",
      "1  JERUSALEM Aug. 23, 2004 - Israel announced pla...   \n",
      "2  US troops fought a gunbattle with insurgents a...   \n",
      "3  A suicide attacker detonated a car bomb near a...   \n",
      "4   CAIRO (Reuters) - Israel released six Egyptia...   \n",
      "\n",
      "                                                text  \n",
      "0  Large Explosion Heard in Central Baghdad (Reut...  \n",
      "1  Israel OKs More West Bank Settlement Homes JER...  \n",
      "2  Scores of Iraqis die in 3 days of attacks US t...  \n",
      "3  At least 20 dead in Kurkik bombing A suicide a...  \n",
      "4  Israel, Egypt in Prisoner Swap  CAIRO (Reuters...  \n",
      "   label                                              title  \\\n",
      "0      0  Large Explosion Heard in Central Baghdad (Reut...   \n",
      "1      0         Israel OKs More West Bank Settlement Homes   \n",
      "2      0          Scores of Iraqis die in 3 days of attacks   \n",
      "3      0                 At least 20 dead in Kurkik bombing   \n",
      "4      0                     Israel, Egypt in Prisoner Swap   \n",
      "\n",
      "                                         description  \\\n",
      "0  Reuters - A large blast was heard in central\\B...   \n",
      "1  JERUSALEM Aug. 23, 2004 - Israel announced pla...   \n",
      "2  US troops fought a gunbattle with insurgents a...   \n",
      "3  A suicide attacker detonated a car bomb near a...   \n",
      "4   CAIRO (Reuters) - Israel released six Egyptia...   \n",
      "\n",
      "                                                text  \n",
      "0  Large Explosion Heard in Central Baghdad (Reut...  \n",
      "1  Israel OKs More West Bank Settlement Homes JER...  \n",
      "2  Scores of Iraqis die in 3 days of attacks US t...  \n",
      "3  At least 20 dead in Kurkik bombing A suicide a...  \n",
      "4  Israel, Egypt in Prisoner Swap  CAIRO (Reuters...  \n"
     ]
    },
    {
     "name": "stderr",
     "output_type": "stream",
     "text": [
      "Map: 100%|██████████| 3800/3800 [00:00<00:00, 6264.27 examples/s]\n",
      "Map: 100%|██████████| 3800/3800 [00:00<00:00, 6789.81 examples/s]\n",
      "Some weights of DistilBertForSequenceClassification were not initialized from the model checkpoint at distilbert-base-uncased and are newly initialized: ['classifier.bias', 'classifier.weight', 'pre_classifier.bias', 'pre_classifier.weight']\n",
      "You should probably TRAIN this model on a down-stream task to be able to use it for predictions and inference.\n",
      "C:\\Users\\jothi\\AppData\\Local\\Temp\\ipykernel_12328\\1562231422.py:131: FutureWarning: `tokenizer` is deprecated and will be removed in version 5.0.0 for `Trainer.__init__`. Use `processing_class` instead.\n",
      "  trainer = Trainer(\n"
     ]
    },
    {
     "name": "stdout",
     "output_type": "stream",
     "text": [
      "TrainingArguments created with supported params: ['output_dir', 'learning_rate', 'per_device_train_batch_size', 'per_device_eval_batch_size', 'num_train_epochs', 'weight_decay', 'logging_dir', 'logging_steps', 'eval_strategy', 'save_strategy', 'load_best_model_at_end']\n"
     ]
    },
    {
     "name": "stderr",
     "output_type": "stream",
     "text": [
      "2025/09/13 20:53:15 WARNING mlflow.utils.git_utils: Failed to import Git (the Git executable is probably not on your PATH), so Git SHA is not available. Error: Failed to initialize: Bad git executable.\n",
      "The git executable must be specified in one of the following ways:\n",
      "    - be included in your $PATH\n",
      "    - be set via $GIT_PYTHON_GIT_EXECUTABLE\n",
      "    - explicitly set via git.refresh(<full-path-to-git-executable>)\n",
      "\n",
      "All git commands will error until this is rectified.\n",
      "\n",
      "This initial message can be silenced or aggravated in the future by setting the\n",
      "$GIT_PYTHON_REFRESH environment variable. Use one of the following values:\n",
      "    - quiet|q|silence|s|silent|none|n|0: for no message or exception\n",
      "    - warn|w|warning|log|l|1: for a warning message (logging level CRITICAL, displayed by default)\n",
      "    - error|e|exception|raise|r|2: for a raised exception\n",
      "\n",
      "Example:\n",
      "    export GIT_PYTHON_REFRESH=quiet\n",
      "\n",
      "c:\\Users\\jothi\\AppData\\Local\\Programs\\Python\\Python310\\lib\\site-packages\\torch\\utils\\data\\dataloader.py:666: UserWarning: 'pin_memory' argument is set as true but no accelerator is found, then device pinned memory won't be used.\n",
      "  warnings.warn(warn_msg)\n"
     ]
    },
    {
     "data": {
      "text/html": [
       "\n",
       "    <div>\n",
       "      \n",
       "      <progress value='714' max='714' style='width:300px; height:20px; vertical-align: middle;'></progress>\n",
       "      [714/714 2:01:19, Epoch 3/3]\n",
       "    </div>\n",
       "    <table border=\"1\" class=\"dataframe\">\n",
       "  <thead>\n",
       " <tr style=\"text-align: left;\">\n",
       "      <th>Epoch</th>\n",
       "      <th>Training Loss</th>\n",
       "      <th>Validation Loss</th>\n",
       "      <th>Accuracy</th>\n",
       "      <th>F1</th>\n",
       "    </tr>\n",
       "  </thead>\n",
       "  <tbody>\n",
       "    <tr>\n",
       "      <td>1</td>\n",
       "      <td>0.366800</td>\n",
       "      <td>0.256807</td>\n",
       "      <td>0.920263</td>\n",
       "      <td>0.920608</td>\n",
       "    </tr>\n",
       "    <tr>\n",
       "      <td>2</td>\n",
       "      <td>0.234800</td>\n",
       "      <td>0.178232</td>\n",
       "      <td>0.949474</td>\n",
       "      <td>0.949290</td>\n",
       "    </tr>\n",
       "    <tr>\n",
       "      <td>3</td>\n",
       "      <td>0.229100</td>\n",
       "      <td>0.152208</td>\n",
       "      <td>0.960263</td>\n",
       "      <td>0.960192</td>\n",
       "    </tr>\n",
       "  </tbody>\n",
       "</table><p>"
      ],
      "text/plain": [
       "<IPython.core.display.HTML object>"
      ]
     },
     "metadata": {},
     "output_type": "display_data"
    },
    {
     "name": "stderr",
     "output_type": "stream",
     "text": [
      "c:\\Users\\jothi\\AppData\\Local\\Programs\\Python\\Python310\\lib\\site-packages\\torch\\utils\\data\\dataloader.py:666: UserWarning: 'pin_memory' argument is set as true but no accelerator is found, then device pinned memory won't be used.\n",
      "  warnings.warn(warn_msg)\n",
      "c:\\Users\\jothi\\AppData\\Local\\Programs\\Python\\Python310\\lib\\site-packages\\torch\\utils\\data\\dataloader.py:666: UserWarning: 'pin_memory' argument is set as true but no accelerator is found, then device pinned memory won't be used.\n",
      "  warnings.warn(warn_msg)\n",
      "c:\\Users\\jothi\\AppData\\Local\\Programs\\Python\\Python310\\lib\\site-packages\\torch\\utils\\data\\dataloader.py:666: UserWarning: 'pin_memory' argument is set as true but no accelerator is found, then device pinned memory won't be used.\n",
      "  warnings.warn(warn_msg)\n"
     ]
    },
    {
     "data": {
      "text/html": [],
      "text/plain": [
       "<IPython.core.display.HTML object>"
      ]
     },
     "metadata": {},
     "output_type": "display_data"
    },
    {
     "name": "stdout",
     "output_type": "stream",
     "text": [
      "{'eval_loss': 0.15220767259597778, 'eval_accuracy': 0.9602631578947368, 'eval_f1': 0.9601919772092182, 'eval_runtime': 500.337, 'eval_samples_per_second': 7.595, 'eval_steps_per_second': 0.476, 'epoch': 3.0}\n"
     ]
    },
    {
     "data": {
      "text/plain": [
       "('./distilbert_agnews_model.h5\\\\tokenizer_config.json',\n",
       " './distilbert_agnews_model.h5\\\\special_tokens_map.json',\n",
       " './distilbert_agnews_model.h5\\\\vocab.txt',\n",
       " './distilbert_agnews_model.h5\\\\added_tokens.json',\n",
       " './distilbert_agnews_model.h5\\\\tokenizer.json')"
      ]
     },
     "execution_count": 14,
     "metadata": {},
     "output_type": "execute_result"
    }
   ],
   "source": [
    "# !pip install transformers datasets scikit-learn\n",
    "\n",
    "import pandas as pd\n",
    "from datasets import Dataset\n",
    "from transformers import DistilBertTokenizerFast, DistilBertForSequenceClassification\n",
    "from transformers import TrainingArguments, Trainer\n",
    "from sklearn.metrics import accuracy_score, f1_score\n",
    "import numpy as np\n",
    "\n",
    "# --------------------------\n",
    "# 1. Load Dataset (AG News)\n",
    "import pandas as pd\n",
    "\n",
    "import pandas as pd\n",
    "\n",
    "# Load your 50% subset\n",
    "train_df = pd.read_csv(r\"C:\\Users\\jothi\\Desktop\\AG NEWS PROJECT\\train_50_percent.csv\", header=0)\n",
    "test_df  = pd.read_csv(r\"C:\\Users\\jothi\\Desktop\\AG NEWS PROJECT\\test_50_percent.csv\", header=0)\n",
    "\n",
    "# Columns: [label, title, description]\n",
    "train_df.columns = [\"label\", \"title\", \"description\"]\n",
    "test_df.columns  = [\"label\", \"title\", \"description\"]\n",
    "\n",
    "# Convert labels to integers\n",
    "train_df[\"label\"] = train_df[\"label\"].astype(int) - 1\n",
    "test_df[\"label\"]  = test_df[\"label\"].astype(int) - 1\n",
    "\n",
    "# Combine title + description into one text column\n",
    "train_df[\"text\"] = train_df[\"title\"].astype(str) + \" \" + train_df[\"description\"].astype(str)\n",
    "test_df[\"text\"]  = test_df[\"title\"].astype(str) + \" \" + test_df[\"description\"].astype(str)\n",
    "\n",
    "print(train_df.head())\n",
    "print(test_df.head())\n",
    "\n",
    "train_dataset = Dataset.from_pandas(train_df[[\"text\", \"label\"]])\n",
    "test_dataset = Dataset.from_pandas(test_df[[\"text\", \"label\"]])\n",
    "\n",
    "# --------------------------\n",
    "# 2. Tokenization\n",
    "# --------------------------\n",
    "tokenizer = DistilBertTokenizerFast.from_pretrained(\"distilbert-base-uncased\")\n",
    "\n",
    "def tokenize(batch):\n",
    "    return tokenizer(batch[\"text\"], padding=\"max_length\", truncation=True, max_length=256)\n",
    "\n",
    "train_dataset = train_dataset.map(tokenize, batched=True)\n",
    "test_dataset = test_dataset.map(tokenize, batched=True)\n",
    "\n",
    "# Remove text column & format for torch\n",
    "train_dataset = train_dataset.remove_columns([\"text\"])\n",
    "test_dataset = test_dataset.remove_columns([\"text\"])\n",
    "train_dataset.set_format(\"torch\")\n",
    "test_dataset.set_format(\"torch\")\n",
    "\n",
    "# --------------------------\n",
    "# 3. Load Pretrained Model\n",
    "# --------------------------\n",
    "model = DistilBertForSequenceClassification.from_pretrained(\n",
    "    \"distilbert-base-uncased\", num_labels=4\n",
    ")\n",
    "\n",
    "# --------------------------\n",
    "# 4. Define Metrics (scikit-learn)\n",
    "# --------------------------\n",
    "def compute_metrics(eval_pred):\n",
    "    logits, labels = eval_pred\n",
    "    preds = np.argmax(logits, axis=-1)\n",
    "    acc = accuracy_score(labels, preds)\n",
    "    f1 = f1_score(labels, preds, average=\"weighted\")\n",
    "    return {\"accuracy\": acc, \"f1\": f1}\n",
    "\n",
    "# --------------------------\n",
    "# 5. Training Arguments\n",
    "# --------------------------\n",
    "import inspect\n",
    "from transformers import TrainingArguments\n",
    "\n",
    "# Basic common kwargs (edit these hyperparams as needed)\n",
    "common_kwargs = {\n",
    "    \"output_dir\": \"./results\",\n",
    "    \"learning_rate\": 2e-5,\n",
    "    \"per_device_train_batch_size\": 16,\n",
    "    \"per_device_eval_batch_size\": 16,\n",
    "    \"num_train_epochs\": 3,\n",
    "    \"weight_decay\": 0.01,\n",
    "    \"logging_dir\": \"./logs\",\n",
    "    \"logging_steps\": 100,\n",
    "}\n",
    "\n",
    "# Inspect the TrainingArguments __init__ signature to see supported parameter names\n",
    "sig = inspect.signature(TrainingArguments.__init__)\n",
    "param_names = set(sig.parameters.keys())\n",
    "param_names.discard(\"self\")  # not a real kwarg\n",
    "\n",
    "# Add evaluation/save related kwargs using the names available in this version\n",
    "if \"eval_strategy\" in param_names:\n",
    "    common_kwargs[\"eval_strategy\"] = \"epoch\"      # new name in recent versions\n",
    "elif \"evaluation_strategy\" in param_names:\n",
    "    common_kwargs[\"evaluation_strategy\"] = \"epoch\"  # older name\n",
    "\n",
    "if \"save_strategy\" in param_names:\n",
    "    common_kwargs[\"save_strategy\"] = \"epoch\"\n",
    "elif \"save_steps\" in param_names:\n",
    "    common_kwargs[\"save_steps\"] = 500\n",
    "\n",
    "# load_best_model_at_end exists in many versions; add only if supported\n",
    "if \"load_best_model_at_end\" in param_names:\n",
    "    common_kwargs[\"load_best_model_at_end\"] = True\n",
    "\n",
    "# Finally construct TrainingArguments\n",
    "try:\n",
    "    training_args = TrainingArguments(**common_kwargs)\n",
    "    print(\"TrainingArguments created with supported params:\", list(common_kwargs.keys()))\n",
    "except TypeError as e:\n",
    "    # Fallback: create a minimal TrainingArguments without eval/save-related options\n",
    "    print(\"Fallback: some kwargs not supported. Error:\", e)\n",
    "    minimal_kwargs = {\n",
    "        \"output_dir\": \"./results\",\n",
    "        \"per_device_train_batch_size\": 16,\n",
    "        \"per_device_eval_batch_size\": 16,\n",
    "        \"num_train_epochs\": 3,\n",
    "    }\n",
    "    training_args = TrainingArguments(**minimal_kwargs)\n",
    "    print(\"Fallback TrainingArguments created (minimal).\")\n",
    "\n",
    "\n",
    "\n",
    "# --------------------------\n",
    "# 6. Trainer API\n",
    "# --------------------------\n",
    "trainer = Trainer(\n",
    "    model=model,\n",
    "    args=training_args,\n",
    "    train_dataset=train_dataset,\n",
    "    eval_dataset=test_dataset,\n",
    "    tokenizer=tokenizer,\n",
    "    compute_metrics=compute_metrics,\n",
    ")\n",
    "\n",
    "# --------------------------\n",
    "# 7. Train the Model\n",
    "# --------------------------\n",
    "trainer.train()\n",
    "\n",
    "# --------------------------\n",
    "# 8. Evaluate\n",
    "# --------------------------\n",
    "results = trainer.evaluate()\n",
    "print(results)\n",
    "\n",
    "# --------------------------\n",
    "# 9. Save Model\n",
    "# --------------------------\n",
    "trainer.save_model(\"./distilbert_agnews_model.h5\")\n",
    "tokenizer.save_pretrained(\"./distilbert_agnews_model.h5\")\n"
   ]
  },
  {
   "cell_type": "code",
   "execution_count": 15,
   "id": "b23e4d25",
   "metadata": {},
   "outputs": [
    {
     "name": "stderr",
     "output_type": "stream",
     "text": [
      "c:\\Users\\jothi\\AppData\\Local\\Programs\\Python\\Python310\\lib\\site-packages\\torch\\utils\\data\\dataloader.py:666: UserWarning: 'pin_memory' argument is set as true but no accelerator is found, then device pinned memory won't be used.\n",
      "  warnings.warn(warn_msg)\n"
     ]
    },
    {
     "name": "stdout",
     "output_type": "stream",
     "text": [
      "\n",
      "📊 Classification Report:\n",
      "              precision    recall  f1-score   support\n",
      "\n",
      "       World       0.98      0.93      0.96       950\n",
      "      Sports       0.98      0.99      0.99       950\n",
      "    Business       0.95      0.93      0.94       950\n",
      "    Sci/Tech       0.94      0.98      0.96       950\n",
      "\n",
      "    accuracy                           0.96      3800\n",
      "   macro avg       0.96      0.96      0.96      3800\n",
      "weighted avg       0.96      0.96      0.96      3800\n",
      "\n",
      "\n",
      "📊 Confusion Matrix:\n",
      "[[887  14  33  16]\n",
      " [  4 942   4   0]\n",
      " [ 13   1 888  48]\n",
      " [  3   1  14 932]]\n"
     ]
    }
   ],
   "source": [
    "from sklearn.metrics import classification_report, confusion_matrix\n",
    "import numpy as np\n",
    "\n",
    "# --------------------------\n",
    "# 10. Predictions on Test Set\n",
    "# --------------------------\n",
    "predictions = trainer.predict(test_dataset)\n",
    "y_true = predictions.label_ids\n",
    "y_pred = np.argmax(predictions.predictions, axis=1)\n",
    "\n",
    "# --------------------------\n",
    "# 11. Classification Report\n",
    "# --------------------------\n",
    "print(\"\\n📊 Classification Report:\")\n",
    "print(classification_report(y_true, y_pred, target_names=[\"World\", \"Sports\", \"Business\", \"Sci/Tech\"]))\n",
    "\n",
    "# --------------------------\n",
    "# 12. Confusion Matrix\n",
    "# --------------------------\n",
    "print(\"\\n📊 Confusion Matrix:\")\n",
    "print(confusion_matrix(y_true, y_pred))\n"
   ]
  },
  {
   "cell_type": "code",
   "execution_count": 17,
   "id": "abe0fb4d",
   "metadata": {},
   "outputs": [
    {
     "data": {
      "image/png": "[encoded data removed]",
      "text/plain": [
       "<Figure size 400x300 with 1 Axes>"
      ]
     },
     "metadata": {},
     "output_type": "display_data"
    }
   ],
   "source": [
    "import matplotlib.pyplot as plt\n",
    "import seaborn as sns\n",
    "from sklearn.metrics import confusion_matrix\n",
    "\n",
    "# Confusion Matrix\n",
    "cm = confusion_matrix(y_true, y_pred)\n",
    "\n",
    "# Plot\n",
    "plt.figure(figsize=(4, 3))  # Small size\n",
    "sns.heatmap(cm, annot=True, fmt='d', cmap='Blues', cbar=False)\n",
    "plt.title('Confusion Matrix')\n",
    "plt.xlabel('Predicted')\n",
    "plt.ylabel('Actual')\n",
    "plt.show()\n"
   ]
  },
  {
   "cell_type": "code",
   "execution_count": 19,
   "id": "a47cd882",
   "metadata": {},
   "outputs": [
    {
     "name": "stdout",
     "output_type": "stream",
     "text": [
      "Note: you may need to restart the kernel to use updated packages.Collecting tabulate\n",
      "  Downloading tabulate-0.9.0-py3-none-any.whl.metadata (34 kB)\n",
      "Downloading tabulate-0.9.0-py3-none-any.whl (35 kB)\n",
      "Installing collected packages: tabulate\n",
      "Successfully installed tabulate-0.9.0\n",
      "\n"
     ]
    },
    {
     "name": "stderr",
     "output_type": "stream",
     "text": [
      "  WARNING: The script tabulate.exe is installed in 'c:\\Users\\jothi\\AppData\\Local\\Programs\\Python\\Python310\\Scripts' which is not on PATH.\n",
      "  Consider adding this directory to PATH or, if you prefer to suppress this warning, use --no-warn-script-location.\n"
     ]
    }
   ],
   "source": [
    "pip install tabulate\n"
   ]
  },
  {
   "cell_type": "code",
   "execution_count": 20,
   "id": "c5cd7cf4",
   "metadata": {},
   "outputs": [
    {
     "name": "stdout",
     "output_type": "stream",
     "text": [
      "News Article Classifier Comparison:\n",
      "\n",
      "+---------------------+--------------+------------+------------+----------------------------------------------+---------------------------------------------+\n",
      "| Model Name          | Model Type   |   Accuracy |   F1-Score | Pros                                         | Cons                                        |\n",
      "+=====================+==============+============+============+==============================================+=============================================+\n",
      "| Logistic Regression | ML           |       0.92 |       0.92 | 1. Fast training and inference               | 1. Limited to linear decision boundaries    |\n",
      "|                     |              |            |            | 2. Easy to interpret and implement           | 2. Poor performance on long or complex text |\n",
      "|                     |              |            |            | 3. Good for linearly separable text          | 3. Requires manual feature engineering      |\n",
      "+---------------------+--------------+------------+------------+----------------------------------------------+---------------------------------------------+\n",
      "| GRU                 | DL           |       0.91 |       0.91 | 1. Captures sequential dependencies          | 1. Slower training than ML models           |\n",
      "|                     |              |            |            | 2. Handles variable-length input             | 2. Sensitive to vanishing gradients         |\n",
      "|                     |              |            |            | 3. Suitable for moderately complex NLP tasks | 3. Needs careful hyperparameter tuning      |\n",
      "+---------------------+--------------+------------+------------+----------------------------------------------+---------------------------------------------+\n",
      "| DistilBERT          | Pre-trained  |       0.96 |       0.96 | 1. Excellent contextual understanding        | 1. High memory and compute requirements     |\n",
      "|                     |              |            |            | 2. Pre-trained on large corpora              | 2. Slower inference speed                   |\n",
      "|                     |              |            |            | 3. High accuracy with fine-tuning            | 3. May overfit on small datasets            |\n",
      "+---------------------+--------------+------------+------------+----------------------------------------------+---------------------------------------------+\n"
     ]
    }
   ],
   "source": [
    "from tabulate import tabulate\n",
    "\n",
    "# Define the data\n",
    "headers = [\"Model Name\", \"Model Type\", \"Accuracy\", \"F1-Score\", \"Pros\", \"Cons\"]\n",
    "rows = [\n",
    "    [\n",
    "        \"Logistic Regression\", \"ML\", 0.92, 0.92,\n",
    "        \"1. Fast training and inference\\n2. Easy to interpret and implement\\n3. Good for linearly separable text\",\n",
    "        \"1. Limited to linear decision boundaries\\n2. Poor performance on long or complex text\\n3. Requires manual feature engineering\"\n",
    "    ],\n",
    "    [\n",
    "        \"GRU\", \"DL\", 0.91, 0.91,\n",
    "        \"1. Captures sequential dependencies\\n2. Handles variable-length input\\n3. Suitable for moderately complex NLP tasks\",\n",
    "        \"1. Slower training than ML models\\n2. Sensitive to vanishing gradients\\n3. Needs careful hyperparameter tuning\"\n",
    "    ],\n",
    "    [\n",
    "        \"DistilBERT\", \"Pre-trained\", 0.96, 0.96,\n",
    "        \"1. Excellent contextual understanding\\n2. Pre-trained on large corpora\\n3. High accuracy with fine-tuning\",\n",
    "        \"1. High memory and compute requirements\\n2. Slower inference speed\\n3. May overfit on small datasets\"\n",
    "    ]\n",
    "]\n",
    "\n",
    "# Print the table\n",
    "print(\"News Article Classifier Comparison:\\n\")\n",
    "print(tabulate(rows, headers=headers, tablefmt=\"grid\"))"
   ]
  }
 ],
 "metadata": {
  "kernelspec": {
   "display_name": "Python 3",
   "language": "python",
   "name": "python3"
  },
  "language_info": {
   "codemirror_mode": {
    "name": "ipython",
    "version": 3
   },
   "file_extension": ".py",
   "mimetype": "text/x-python",
   "name": "python",
   "nbconvert_exporter": "python",
   "pygments_lexer": "ipython3",
   "version": "3.10.0"
  }
 },
 "nbformat": 4,
 "nbformat_minor": 5
}
